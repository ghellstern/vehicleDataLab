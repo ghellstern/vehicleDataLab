{
 "cells": [
  {
   "cell_type": "markdown",
   "metadata": {},
   "source": [
    "Let's start just printing out a selection of events to check it's working. This creates a DataFrame which contains the parsed JSON as a collection of data in named columns. So, the sequence of events from the cars has been transformed into something that we can query like a relational database table."
   ]
  },
  {
   "cell_type": "markdown",
   "metadata": {},
   "source": [
    "First we need to import the data. Since it is still stored in Object Storage, we need to download it from there and upload it into the Watson Studio Workspace.\n",
    "\n",
    "To do so, please go first to your Object Storage GUI (go to IBM Cloud Dashboard and click on your \"Object Storage OpenStack Swift\" service), you can download it from there via the GUI. \n",
    "\n",
    "Afterwards, click on the 10/01 symbol in the action bar of Watson Studio (you can find it in the upper right corner), this takes you to the data assets associated with this project. You  can upload the file via Drag&Drop there. This will automatically store the file in the new S3 version of Object Storage.\n",
    "\n",
    "The file will appear there. Please click in the empty cell below, and then on \"Insert to code\" just below the file name and select \"Insert SparkSession Data Frame\". This will generate the code for you.\n",
    "\n",
    "Before you can let it run, you need to check if the variable name is correct. It will look like this:\n",
    "\n",
    "\n",
    "`df_data_1 = spark.read\\\n",
    "  .format('org.apache.spark.sql.execution.datasources.csv.CSVFileFormat')\\\n",
    "  .option('header', 'true')\\\n",
    "  .load(cos.url('data.csv', 'test1-donotdelete-pr-gg26yilfdlbrpy'))\n",
    "df_data_1.take(5)\n",
    "`\n",
    "Please correct the variable name of the data frame to df (in this example df_data_1 -> df). \n",
    "\n",
    "Now you are ready to run the cell."
   ]
  },
  {
   "cell_type": "code",
   "execution_count": 2,
   "metadata": {},
   "outputs": [
    {
     "data": {
      "text/plain": [
       "[Row(distance=100.93539716989521, fuelCapacity=11.0, fuelRemaining=5.612936452902985, refills=0, ts='2018-06-06T15:57:45.491', vehicleNumber='car4'),\n",
       " Row(distance=11.29986020963233, fuelCapacity=11.0, fuelRemaining=8.681637340925219, refills=0, ts='2018-06-06T14:42:45.491', vehicleNumber='car14'),\n",
       " Row(distance=35.72674606375544, fuelCapacity=11.0, fuelRemaining=7.632006834180967, refills=0, ts='2018-06-06T14:57:45.491', vehicleNumber='car3'),\n",
       " Row(distance=197.45279064700304, fuelCapacity=11.0, fuelRemaining=0.9331529196217954, refills=0, ts='2018-06-06T16:57:45.491', vehicleNumber='car14'),\n",
       " Row(distance=53.23101437847688, fuelCapacity=11.0, fuelRemaining=7.276805663090892, refills=0, ts='2018-06-06T15:12:45.491', vehicleNumber='car2')]"
      ]
     },
     "execution_count": 2,
     "metadata": {},
     "output_type": "execute_result"
    }
   ],
   "source": []
  },
  {
   "cell_type": "markdown",
   "metadata": {},
   "source": [
    "Now, let's see which cars have refilled with fuel most frequently. Start by grouping the data by vehicle number, and then aggregate the data counting by refills. Finally, order the resulting set."
   ]
  },
  {
   "cell_type": "code",
   "execution_count": 3,
   "metadata": {},
   "outputs": [
    {
     "name": "stdout",
     "output_type": "stream",
     "text": [
      "+-------------+--------------+\n",
      "|vehicleNumber|count(refills)|\n",
      "+-------------+--------------+\n",
      "|        car14|           272|\n",
      "|        car19|           283|\n",
      "|        car13|           284|\n",
      "|        car20|           284|\n",
      "|        car15|           287|\n",
      "|         car4|           288|\n",
      "|         car5|           291|\n",
      "|         car6|           291|\n",
      "|         car8|           292|\n",
      "|         car2|           294|\n",
      "|        car12|           294|\n",
      "|        car17|           294|\n",
      "|         car9|           297|\n",
      "|        car18|           306|\n",
      "|         car3|           307|\n",
      "|         car7|           309|\n",
      "|        car10|           309|\n",
      "|         car1|           316|\n",
      "|        car16|           320|\n",
      "|        car11|           334|\n",
      "+-------------+--------------+\n",
      "\n"
     ]
    }
   ],
   "source": [
    "df.groupBy('vehicleNumber').agg({'refills':'count'}).orderBy('count(refills)').show()"
   ]
  },
  {
   "cell_type": "markdown",
   "metadata": {},
   "source": [
    "Let's see which car drove the furthest distance."
   ]
  },
  {
   "cell_type": "code",
   "execution_count": 4,
   "metadata": {},
   "outputs": [
    {
     "data": {
      "text/plain": [
       "[Row(vehicleNumber='car13', max(distance)=67254.66293420878)]"
      ]
     },
     "execution_count": 4,
     "metadata": {},
     "output_type": "execute_result"
    }
   ],
   "source": [
    "df.groupBy('vehicleNumber').agg({'distance':'max'}).orderBy('max(distance)', ascending=False).take(1)"
   ]
  },
  {
   "cell_type": "markdown",
   "metadata": {},
   "source": [
    "We can also plot the data in-line in the notebook. For example, this code creates an array of the fuelRemaining values from the events and then plots a histogram. There are a wide range of options to configure the charts and style them."
   ]
  },
  {
   "cell_type": "code",
   "execution_count": 5,
   "metadata": {},
   "outputs": [
    {
     "data": {
      "image/png": "[encoded data removed]",
      "text/plain": [
       "<matplotlib.figure.Figure at 0x7f1af823f2b0>"
      ]
     },
     "metadata": {},
     "output_type": "display_data"
    }
   ],
   "source": [
    "%matplotlib inline\n",
    "import matplotlib.pyplot as plt\n",
    "df.registerTempTable('carevents')\n",
    "xx = []\n",
    "d = sqlContext.sql(\"select fuelRemaining from carevents\").collect()\n",
    "for row in d:\n",
    "    xx.append(int(getattr(row, \"fuelRemaining\")))\n",
    "plt.hist(xx)\n",
    "plt.xlabel('Fuel remaining')\n",
    "plt.ylabel('Instances')\n",
    "plt.show()"
   ]
  },
  {
   "cell_type": "code",
   "execution_count": null,
   "metadata": {},
   "outputs": [],
   "source": []
  }
 ],
 "metadata": {
  "kernelspec": {
   "display_name": "Python 3.5 with Spark 2.1",
   "language": "python",
   "name": "python3-spark21"
  },
  "language_info": {
   "codemirror_mode": {
    "name": "ipython",
    "version": 3
   },
   "file_extension": ".py",
   "mimetype": "text/x-python",
   "name": "python",
   "nbconvert_exporter": "python",
   "pygments_lexer": "ipython3",
   "version": "3.5.4"
  }
 },
 "nbformat": 4,
 "nbformat_minor": 1
}
